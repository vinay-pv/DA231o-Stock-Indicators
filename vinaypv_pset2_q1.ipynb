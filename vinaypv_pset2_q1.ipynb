{
  "nbformat": 4,
  "nbformat_minor": 0,
  "metadata": {
    "colab": {
      "provenance": [],
      "include_colab_link": true
    },
    "kernelspec": {
      "name": "python3",
      "display_name": "Python 3"
    },
    "language_info": {
      "name": "python"
    }
  },
  "cells": [
    {
      "cell_type": "markdown",
      "metadata": {
        "id": "view-in-github",
        "colab_type": "text"
      },
      "source": [
        "<a href=\"https://colab.research.google.com/github/vinay-pv/DA231o-Stock-Indicators/blob/main/vinaypv_pset2_q1.ipynb\" target=\"_parent\"><img src=\"https://colab.research.google.com/assets/colab-badge.svg\" alt=\"Open In Colab\"/></a>"
      ]
    },
    {
      "cell_type": "markdown",
      "source": [
        "# Data Cleanup and Exploratory Data Analysis\n",
        "---\n",
        "\n",
        "\n",
        "We will perform dataclean up and Exploratory data analysis using the glassdoor data for jobn postings related to datascience. \n",
        "\n",
        "### Instructions \n",
        "---\n",
        "\n",
        "* All Your codes will be checked for plagiarism, any plagiarism will result in zero marks for both parties involved. \n",
        "\n",
        "* Only change the parts of the code, where it says `##TODO` and do not change any other parts of the code. \n",
        "* your evaluation will fail, if you modify the cells/ lines of code, where it says `DO NOT MODIFY`\n",
        "* Do not hardcode any answers into the answer variables unlesss absolutely necessary. Always store a result of an operation from an expression into the answer variable. \n",
        "* hardcoding the answers will result in zero marks for the problem.\n",
        "\n",
        "\n"
      ],
      "metadata": {
        "id": "ErnBArvWyIrw"
      }
    },
    {
      "cell_type": "code",
      "source": [
        "## DO NOT MODIFY\n",
        "ANSWER_DICT = {}"
      ],
      "metadata": {
        "id": "ZNC_Q1adLzaV"
      },
      "execution_count": 2,
      "outputs": []
    },
    {
      "cell_type": "code",
      "execution_count": 3,
      "metadata": {
        "id": "eReMWXUW6IxE"
      },
      "outputs": [],
      "source": [
        "import numpy as np\n",
        "import pandas as pd\n",
        "import matplotlib.pyplot as plt\n",
        "import seaborn as sns\n",
        "import pickle\n",
        "import re\n",
        "import matplotlib.pyplot as plt\n",
        "from collections import Counter"
      ]
    },
    {
      "cell_type": "markdown",
      "source": [
        "### Loading Data\n",
        "---\n"
      ],
      "metadata": {
        "id": "xakgtPfZKMtj"
      }
    },
    {
      "cell_type": "code",
      "source": [
        "url='https://drive.google.com/file/d/1r0c9kOXrBU-R-AtJH0mPgjIvb1n3ZF2U/view?usp=sharing'\n",
        "url='https://drive.google.com/uc?id=' + url.split('/')[-2]\n",
        "df = pd.read_csv(url)"
      ],
      "metadata": {
        "id": "6Qu22T1RyN0u"
      },
      "execution_count": 4,
      "outputs": []
    },
    {
      "cell_type": "markdown",
      "source": [
        "### Initial thoughts on Data\n",
        "---\n",
        "\n",
        "View the data using `df.head()` and `df.info()` and `df.describe()` and then answer the following questions"
      ],
      "metadata": {
        "id": "C40ikHJpL69s"
      }
    },
    {
      "cell_type": "code",
      "source": [
        "df.describe()"
      ],
      "metadata": {
        "colab": {
          "base_uri": "https://localhost:8080/",
          "height": 297
        },
        "id": "0yQX6f_sKhBu",
        "outputId": "b973a682-0b46-409d-abba-b2608737d1cd"
      },
      "execution_count": 5,
      "outputs": [
        {
          "output_type": "execute_result",
          "data": {
            "text/plain": [
              "            index      Rating      Founded\n",
              "count  672.000000  672.000000   672.000000\n",
              "mean   335.500000    3.518601  1635.529762\n",
              "std    194.133974    1.410329   756.746640\n",
              "min      0.000000   -1.000000    -1.000000\n",
              "25%    167.750000    3.300000  1917.750000\n",
              "50%    335.500000    3.800000  1995.000000\n",
              "75%    503.250000    4.300000  2009.000000\n",
              "max    671.000000    5.000000  2019.000000"
            ],
            "text/html": [
              "\n",
              "  <div id=\"df-d1887be8-8030-405f-b031-5716d69d1c47\">\n",
              "    <div class=\"colab-df-container\">\n",
              "      <div>\n",
              "<style scoped>\n",
              "    .dataframe tbody tr th:only-of-type {\n",
              "        vertical-align: middle;\n",
              "    }\n",
              "\n",
              "    .dataframe tbody tr th {\n",
              "        vertical-align: top;\n",
              "    }\n",
              "\n",
              "    .dataframe thead th {\n",
              "        text-align: right;\n",
              "    }\n",
              "</style>\n",
              "<table border=\"1\" class=\"dataframe\">\n",
              "  <thead>\n",
              "    <tr style=\"text-align: right;\">\n",
              "      <th></th>\n",
              "      <th>index</th>\n",
              "      <th>Rating</th>\n",
              "      <th>Founded</th>\n",
              "    </tr>\n",
              "  </thead>\n",
              "  <tbody>\n",
              "    <tr>\n",
              "      <th>count</th>\n",
              "      <td>672.000000</td>\n",
              "      <td>672.000000</td>\n",
              "      <td>672.000000</td>\n",
              "    </tr>\n",
              "    <tr>\n",
              "      <th>mean</th>\n",
              "      <td>335.500000</td>\n",
              "      <td>3.518601</td>\n",
              "      <td>1635.529762</td>\n",
              "    </tr>\n",
              "    <tr>\n",
              "      <th>std</th>\n",
              "      <td>194.133974</td>\n",
              "      <td>1.410329</td>\n",
              "      <td>756.746640</td>\n",
              "    </tr>\n",
              "    <tr>\n",
              "      <th>min</th>\n",
              "      <td>0.000000</td>\n",
              "      <td>-1.000000</td>\n",
              "      <td>-1.000000</td>\n",
              "    </tr>\n",
              "    <tr>\n",
              "      <th>25%</th>\n",
              "      <td>167.750000</td>\n",
              "      <td>3.300000</td>\n",
              "      <td>1917.750000</td>\n",
              "    </tr>\n",
              "    <tr>\n",
              "      <th>50%</th>\n",
              "      <td>335.500000</td>\n",
              "      <td>3.800000</td>\n",
              "      <td>1995.000000</td>\n",
              "    </tr>\n",
              "    <tr>\n",
              "      <th>75%</th>\n",
              "      <td>503.250000</td>\n",
              "      <td>4.300000</td>\n",
              "      <td>2009.000000</td>\n",
              "    </tr>\n",
              "    <tr>\n",
              "      <th>max</th>\n",
              "      <td>671.000000</td>\n",
              "      <td>5.000000</td>\n",
              "      <td>2019.000000</td>\n",
              "    </tr>\n",
              "  </tbody>\n",
              "</table>\n",
              "</div>\n",
              "      <button class=\"colab-df-convert\" onclick=\"convertToInteractive('df-d1887be8-8030-405f-b031-5716d69d1c47')\"\n",
              "              title=\"Convert this dataframe to an interactive table.\"\n",
              "              style=\"display:none;\">\n",
              "        \n",
              "  <svg xmlns=\"http://www.w3.org/2000/svg\" height=\"24px\"viewBox=\"0 0 24 24\"\n",
              "       width=\"24px\">\n",
              "    <path d=\"M0 0h24v24H0V0z\" fill=\"none\"/>\n",
              "    <path d=\"M18.56 5.44l.94 2.06.94-2.06 2.06-.94-2.06-.94-.94-2.06-.94 2.06-2.06.94zm-11 1L8.5 8.5l.94-2.06 2.06-.94-2.06-.94L8.5 2.5l-.94 2.06-2.06.94zm10 10l.94 2.06.94-2.06 2.06-.94-2.06-.94-.94-2.06-.94 2.06-2.06.94z\"/><path d=\"M17.41 7.96l-1.37-1.37c-.4-.4-.92-.59-1.43-.59-.52 0-1.04.2-1.43.59L10.3 9.45l-7.72 7.72c-.78.78-.78 2.05 0 2.83L4 21.41c.39.39.9.59 1.41.59.51 0 1.02-.2 1.41-.59l7.78-7.78 2.81-2.81c.8-.78.8-2.07 0-2.86zM5.41 20L4 18.59l7.72-7.72 1.47 1.35L5.41 20z\"/>\n",
              "  </svg>\n",
              "      </button>\n",
              "      \n",
              "  <style>\n",
              "    .colab-df-container {\n",
              "      display:flex;\n",
              "      flex-wrap:wrap;\n",
              "      gap: 12px;\n",
              "    }\n",
              "\n",
              "    .colab-df-convert {\n",
              "      background-color: #E8F0FE;\n",
              "      border: none;\n",
              "      border-radius: 50%;\n",
              "      cursor: pointer;\n",
              "      display: none;\n",
              "      fill: #1967D2;\n",
              "      height: 32px;\n",
              "      padding: 0 0 0 0;\n",
              "      width: 32px;\n",
              "    }\n",
              "\n",
              "    .colab-df-convert:hover {\n",
              "      background-color: #E2EBFA;\n",
              "      box-shadow: 0px 1px 2px rgba(60, 64, 67, 0.3), 0px 1px 3px 1px rgba(60, 64, 67, 0.15);\n",
              "      fill: #174EA6;\n",
              "    }\n",
              "\n",
              "    [theme=dark] .colab-df-convert {\n",
              "      background-color: #3B4455;\n",
              "      fill: #D2E3FC;\n",
              "    }\n",
              "\n",
              "    [theme=dark] .colab-df-convert:hover {\n",
              "      background-color: #434B5C;\n",
              "      box-shadow: 0px 1px 3px 1px rgba(0, 0, 0, 0.15);\n",
              "      filter: drop-shadow(0px 1px 2px rgba(0, 0, 0, 0.3));\n",
              "      fill: #FFFFFF;\n",
              "    }\n",
              "  </style>\n",
              "\n",
              "      <script>\n",
              "        const buttonEl =\n",
              "          document.querySelector('#df-d1887be8-8030-405f-b031-5716d69d1c47 button.colab-df-convert');\n",
              "        buttonEl.style.display =\n",
              "          google.colab.kernel.accessAllowed ? 'block' : 'none';\n",
              "\n",
              "        async function convertToInteractive(key) {\n",
              "          const element = document.querySelector('#df-d1887be8-8030-405f-b031-5716d69d1c47');\n",
              "          const dataTable =\n",
              "            await google.colab.kernel.invokeFunction('convertToInteractive',\n",
              "                                                     [key], {});\n",
              "          if (!dataTable) return;\n",
              "\n",
              "          const docLinkHtml = 'Like what you see? Visit the ' +\n",
              "            '<a target=\"_blank\" href=https://colab.research.google.com/notebooks/data_table.ipynb>data table notebook</a>'\n",
              "            + ' to learn more about interactive tables.';\n",
              "          element.innerHTML = '';\n",
              "          dataTable['output_type'] = 'display_data';\n",
              "          await google.colab.output.renderOutput(dataTable, element);\n",
              "          const docLink = document.createElement('div');\n",
              "          docLink.innerHTML = docLinkHtml;\n",
              "          element.appendChild(docLink);\n",
              "        }\n",
              "      </script>\n",
              "    </div>\n",
              "  </div>\n",
              "  "
            ]
          },
          "metadata": {},
          "execution_count": 5
        }
      ]
    },
    {
      "cell_type": "markdown",
      "source": [
        "### Problem - 1 (IQR)\n",
        "--- \n",
        "\n",
        "<br /> \n",
        " What is the interquartile range(IQR) of the rating column ?\n",
        "\n",
        " Write the code which will obtain that value from output of `df.describe()` and store the final answer in `IQRVal` (For Eg : `IQRVal = your code here` ). \n",
        " \n",
        " * Do not hardcode the final result into the ANSWER_DICT. \n",
        " * While storing the value, please ensure proper steps are made such that the value is stored as a numerical value and not as str"
      ],
      "metadata": {
        "id": "72Sa4v8rJU9h"
      }
    },
    {
      "cell_type": "code",
      "source": [
        "## TO DO\n",
        "## Enter\n",
        "##_ANSWER_HASH_TAG_##\n",
        "\n",
        "desc = df.describe()\n",
        "col = \"Rating\"\n",
        "Q3 = \"75%\"\n",
        "Q1 = \"25%\"\n",
        "IQRVal = desc.loc[Q3, col] - desc.loc[Q1, col]\n",
        "\n",
        "##_ANSWER_HASH_TAG_##\n",
        "\n",
        "ANSWER_DICT[1] = [IQRVal] ##--   Do not change"
      ],
      "metadata": {
        "id": "64b8E-ofK5g9"
      },
      "execution_count": 6,
      "outputs": []
    },
    {
      "cell_type": "markdown",
      "source": [
        "<br/>\n",
        "<br/>\n",
        "Now, while visualising the few rows of the dataframe, we could observe that there are lots of missing values which are represented by \"-1\". Now we plan to remove those missing values from our dataset\n",
        "<br/>\n",
        "<br/>"
      ],
      "metadata": {
        "id": "yAqP1wlkLw20"
      }
    },
    {
      "cell_type": "markdown",
      "source": [
        "### Problem 2 \n",
        "---\n",
        "\n",
        "For this problem, remove the rows from dataframe based on the missing values only from the below columns \n",
        "`['Job Title','Salary Estimate','Rating','Size']`. \n",
        "Answer all the questions below, with respect to only these four columns.\n",
        "\n",
        "Use pandas function to identify\n",
        "* How many number of rows have no missing values \n",
        "(Datatype : int; store the answer at  `numRowsWithNoMissingValues` )\n",
        "\n",
        "* What is the name of the second largest column with respect to number of missing values in a column (only among the columns mentioned on top). \n",
        "(Datatype : str ; store the answer at  `secondLargestColumnName`)\n",
        "\n",
        "* Save the final dataframe after removing the missing values from these columns on to variable named `df_reduced` (This should have all columns fron original dataframe, but only the missing values removed from above mentioned columns)\n",
        "\n",
        "Hint : you need to be aware of differnt datatypes the -1 values will occur in your dataframe. For Eg: -1,\"-1\" , \"-1.0\"  etc. replace all these values on the columns using replace to `np.nan` and then perform drop na. \n",
        "\n",
        "\n"
      ],
      "metadata": {
        "id": "1yoqUppOMInu"
      }
    },
    {
      "cell_type": "code",
      "source": [
        "## TODO\n",
        "##_ANSWER_HASH_TAG_##\n",
        "\n",
        "df_reduced = df.copy()\n",
        "\n",
        "reduced_cols = ['Job Title', 'Salary Estimate', 'Rating', 'Size']\n",
        "\n",
        "df_red = df_reduced[reduced_cols].replace([\"-1\", \"-1.0\", -1], np.nan)\n",
        "df_red_nan_sum = df_red.isna().sum()\n",
        "df_red_nan_sorted = df_red_nan_sum.sort_values(ascending=False)\n",
        "\n",
        "numRowsWithNoMissingValues = len(df_red.dropna())\n",
        "\n",
        "secondLargestColumnName = df_red_nan_sorted.index[1]\n",
        "\n",
        "df_reduced[reduced_cols] = df_reduced[reduced_cols].replace(['-1', '-1.0', -1], np.nan)\n",
        "df_reduced = df_reduced.dropna(subset=reduced_cols)\n",
        "\n",
        "##_ANSWER_HASH_TAG_##\n",
        "\n",
        "ANSWER_DICT[2]  = [numRowsWithNoMissingValues,secondLargestColumnName,df_reduced] ## Do not change\n"
      ],
      "metadata": {
        "id": "GJCM0N9hLBJY"
      },
      "execution_count": 7,
      "outputs": []
    },
    {
      "cell_type": "markdown",
      "source": [
        "---\n",
        "#### Note : use `df_reduced` for all problems going forward\n",
        "---"
      ],
      "metadata": {
        "id": "avpJZ7OL_1uW"
      }
    },
    {
      "cell_type": "markdown",
      "source": [
        "### Problem 3:\n",
        "---\n",
        "\n",
        "we could observe that the salary values are stored as range (For Eg: `$100K to $150K`).  Use **regular expressions** and capture groups within re to extract the necessary values\n",
        "\n",
        "\n",
        "1.   Now create three new columns in our modified dataframe `df_reduced` to have these values. \n",
        "\n",
        "      * Min_Salary\n",
        "      * Max_Salary\n",
        "      * Mean_Salary\n",
        "\n",
        "      So from this value `$100K to $150K`, the above three columns should have the values 100,150,125 respectively. (as numeric datatypes , without K and $ )\n",
        "2.   Ensure the dtype of these columns is set as `float`\n",
        "\n",
        "3.   Save the maximum  value of the `Max_Salary` column on to the variable `MaxSalaryinData`\n",
        "4.    Save the min  value of the `Min_Salary` column on to the variable `MinSalaryinData`\n",
        "\n",
        "\n"
      ],
      "metadata": {
        "id": "B5odDzBR1a5x"
      }
    },
    {
      "cell_type": "code",
      "source": [
        "## TODO\n",
        "\n",
        "##_ANSWER_HASH_TAG_##\n",
        "\n",
        "re = '\\$([\\d\\.]+)K?\\s*-\\s*\\$([\\d\\.]+)K?'\n",
        "salary_range = df_reduced[\"Salary Estimate\"].str.extract(re)\n",
        "\n",
        "df_reduced[\"Min_Salary\"] = salary_range[0].astype(float)\n",
        "df_reduced[\"Max_Salary\"] = salary_range[1].astype(float)\n",
        "\n",
        "\n",
        "df_reduced[\"Mean_Salary\"] = ((df_reduced[\"Min_Salary\"] + df_reduced[\"Max_Salary\"]) / 2).astype(float)\n",
        "\n",
        "\n",
        "MaxSalaryinData = df_reduced[\"Max_Salary\"].max()\n",
        "MinSalaryinData = df_reduced[\"Min_Salary\"].min()\n",
        "\n",
        "##_ANSWER_HASH_TAG_##\n",
        "\n",
        "ANSWER_DICT[3] = [MaxSalaryinData,MinSalaryinData,df_reduced[\"Min_Salary\"].dtype]  ## Do not change"
      ],
      "metadata": {
        "id": "SRWlMbh6LIF8"
      },
      "execution_count": 8,
      "outputs": []
    },
    {
      "cell_type": "markdown",
      "source": [
        "### Problem 4\n",
        "---\n",
        "\n",
        "lets clean up the Company Name column, to remove the rating which is attached to the end of company name and and answer the following questions. \n",
        "\n",
        "1. Remove the  `\\n<some number>` attached to the end of each company name in `Company Name` column\n",
        "2. Create a new column called `State_Code`, which extracts the two character state code from `Location` column\n",
        "3. Identify the second third largest state code in terms of number of job postings (two char statecode name from `State_Code` column). Save this value onto the variable `thirdLargestStateCode` as a `str` dtype\n",
        "4. Identify the name of the company with most postings in the `VA` State_Code with `Mean_Salary` greater than `150$`. Save the result onto the variable `largestCompanyVA` as a `int` dtype\n",
        "\n",
        "5. What is the maximum number of postings from a single company in the `CA` region with Rating greater than `4` (save the result onto the variable `maxNumberCA` as `int` dtype)\n",
        "\n",
        "Note: check if all the Values in `Location` has statecode ( a two charecter state code after \",\"). If there is no such value found in a row, then use the State_Code as same value as Location but in lowercase and with all additional spaces stripped off. For Eg: the statecode for \"New York,NY\" is \"NY\" and statecode for \"Uttah\" is \"uttah\""
      ],
      "metadata": {
        "id": "CM1DK6buFlez"
      }
    },
    {
      "cell_type": "code",
      "source": [
        "## TODO\n",
        "\n",
        "##_ANSWER_HASH_TAG_##\n",
        "\n",
        "\n",
        "\n",
        "df_reduced[\"Company Name\"] = df_reduced[\"Company Name\"].str.replace(r'\\n\\d+.\\d+', '', regex=True)\n",
        "df_reduced[\"State_Code\"]   = df_reduced[\"Location\"].str.split(\",\").str[-1].str.strip()\n",
        "\n",
        "thirdLargestStateCode = df_reduced[\"State_Code\"].value_counts().index[2]\n",
        "# print(thirdLargestStateCode)\n",
        "\n",
        "cond = (df_reduced[\"State_Code\"] == 'VA') & (df_reduced[\"Mean_Salary\"] > 150)\n",
        "va_companies = df_reduced.loc[cond].groupby(\"Company Name\").size().sort_values(ascending=False)\n",
        "largestCompanyVA = va_companies.index[0]\n",
        "# print(largestCompanyVA)\n",
        "\n",
        "\n",
        "cond = (df_reduced[\"State_Code\"] == 'CA') & (df_reduced[\"Rating\"] > 4)\n",
        "ca_companies = df_reduced.loc[cond].groupby(\"Company Name\").size()\n",
        "maxNumberCA = ca_companies.max()\n",
        "# print(maxNumberCA)\n",
        "\n",
        "##_ANSWER_HASH_TAG_##\n",
        "\n",
        "ANSWER_DICT[4] = [thirdLargestStateCode,largestCompanyVA,maxNumberCA] "
      ],
      "metadata": {
        "id": "A1EeO5KP4hdt"
      },
      "execution_count": 9,
      "outputs": []
    },
    {
      "cell_type": "markdown",
      "source": [
        "### Problem 5 \n",
        "---\n",
        "\n",
        "Lets get the number of people working at a specific company by taking those values from \"Size\" column and storing them on the column named `Max_Size`. Here we will only take the maximum values. For Eg: if company has 51 to 200 employees, we will put number of employees as 200. For special cases ( 10000+ employees --> 10000 , Unknown --> 0 ). The dtype of the `Max_Size` column should be `int`\n",
        "\n",
        "\n",
        "\n",
        "1. How many number of companies, which are founded on or after 1990 has more than 9000 employees working with them. ( store the result  on `Over10kEmployees` as `int` dtype)\n",
        "\n",
        "2. What is the glassdoor rating(`Rating`) of the startup company `CA` region which offers highest mean salary (. Consider a company founded on or after 2015 with `Max_Size` greater than 10 and less than 70 as a startup company. ( Store the value as `StartupMaxRating` with `float` as dtype)"
      ],
      "metadata": {
        "id": "QNSP16bX450Z"
      }
    },
    {
      "cell_type": "code",
      "source": [
        "## TODO\n",
        "\n",
        "##_ANSWER_HASH_TAG_##\n",
        "\n",
        "def extract_max_size(size):\n",
        "    if size == 'Unknown':\n",
        "        return 0\n",
        "    elif '+' in size:\n",
        "        return int(size.split('+')[0].replace(',', ''))\n",
        "    else:\n",
        "        sizes = size.split(' to ')\n",
        "        return int(sizes[-1].split(' ')[0].replace(',', ''))\n",
        "\n",
        "df_reduced[\"Max_Size\"] = df_reduced[\"Size\"].apply(extract_max_size)\n",
        "\n",
        "max_size = 9000\n",
        "founded = 1990\n",
        "cond = (df_reduced[\"Max_Size\"] > max_size) & (df_reduced[\"Founded\"] >= founded)\n",
        "Over10kEmployees = len(df_reduced[cond])\n",
        "\n",
        "\n",
        "startup_max_size = 70\n",
        "startup_min_size = 10\n",
        "startup_founded  = 2015\n",
        "startup_region = 'CA'\n",
        "startup_cond = (df_reduced['Max_Size'] < startup_max_size) \\\n",
        "                & (df_reduced['Max_Size'] > startup_min_size) \\\n",
        "                & (df_reduced['State_Code'] == startup_region) \\\n",
        "                & (df_reduced['Founded'] >= startup_founded)\n",
        "StartupMaxRating = df_reduced[startup_cond][\"Rating\"].max().astype(float)\n",
        "\n",
        "\n",
        "##_ANSWER_HASH_TAG_##\n",
        "\n",
        "ANSWER_DICT[5] = [Over10kEmployees,StartupMaxRating]\n"
      ],
      "metadata": {
        "id": "m7QQx6xj45Gv"
      },
      "execution_count": 10,
      "outputs": []
    },
    {
      "cell_type": "markdown",
      "source": [],
      "metadata": {
        "id": "P2mt1YKpAoRb"
      }
    },
    {
      "cell_type": "markdown",
      "source": [
        "### Problem 6 \n",
        "---\n",
        "\n",
        "Lets extract all the skills from the job description. This is little bit challenging to extract. So lets have a list of commonnly mentioned skills and see how many of them were present as a required skill for each job posting \n",
        "\n",
        "\n",
        "1. Add a new column called `Skill`, which will contain the list of skills  present in the `Job Description` when compared with values from main `skillList`. Each row will have list of skills which are present in both the Description of the job and also in the `skillList`\n",
        "\n",
        "For Example. if row has Job Description as \".. this job requires python c++ cuda sql and other additional skills .. As a python programmer you should be able to perform tasks such as ... \", then the `Skill` column of that row will have `[python, c++, sql]`.  **the skill list should contain only unique skill values, no duplicate should be found**\n",
        "\n",
        "\n",
        "Hint: Replace special charecters in description ( so that can be split innto words) and convert the entire string into words. Compare those words agains words in `skillList` and then add the result to the `Skill` column\n",
        "\n",
        "2. What is the maximum number of skills ( based on the computed list on `Skill` column ) that is that was requested for any job posting where `Job Title` is `Data Scientist`. Save it on variable named `maxLenSkill` as dtype `int`\n"
      ],
      "metadata": {
        "id": "xQ41QVOVTmRJ"
      }
    },
    {
      "cell_type": "code",
      "source": [
        "skillList = [\"python\",\"sql\",\"aws\",\"spark\",\"azure\",\"r\",\"tableau\",\"java\",\"excel\",\"scala\",\"hadoop\",\"mlops\",\"power bi\",\"snowflake\",\"kafka\",\"nosql\",\"docker\",\"kubernetes\",\"tensorflow\",\"pytorch\",\"pyspark\",\"pandas\",\"mysql\",\"shell\",\"linux\",\"mongodb\",\"pyspark\",\"numpy\",\"javascript\",\"c++\",\"pytorch\",\"jira\",\"jenkins\",\"sap\",\"scikit-learn\",\"github\",\"terraform\",\"unix\",\"c\",\"matlab\",\"go\",\"kafka\"]\n"
      ],
      "metadata": {
        "id": "8v-grUNCTmGb"
      },
      "execution_count": 11,
      "outputs": []
    },
    {
      "cell_type": "code",
      "source": [
        "## TODO\n",
        "\n",
        "##_ANSWER_HASH_TAG_##\n",
        "\n",
        "import re\n",
        "\n",
        "pattern = re.compile(r'\\b(?:{})\\b'.format('|'.join(map(re.escape, skillList))), re.IGNORECASE)\n",
        "\n",
        "def extract_skill(jd):\n",
        "  skills = []\n",
        "  jd = jd.lower()\n",
        "  matches = pattern.findall(jd)\n",
        "  matches = list(set(matches))\n",
        "  return matches\n",
        "\n",
        "df_reduced[\"Skill\"] = df_reduced[\"Job Description\"].apply(extract_skill)\n",
        "\n",
        "df_reduced[\"LenSkill\"] = df_reduced[\"Skill\"].str.len()\n",
        "\n",
        "maxLenSkill = df_reduced.loc[df_reduced[\"Job Title\"] == \"Data Scientist\", \"Skill\"].apply(len).max()\n",
        "\n",
        "##_ANSWER_HASH_TAG_##\n",
        "\n",
        "ANSWER_DICT[6] = [maxLenSkill]"
      ],
      "metadata": {
        "id": "mwU37e_w4oOl"
      },
      "execution_count": 12,
      "outputs": []
    },
    {
      "cell_type": "markdown",
      "source": [
        "Create a new dataframe called `df_data_scientist`, which contains only rows with `Job Title` as `Data Scientist`\n",
        "\n",
        "**For all further problems from now, use the dataframe `df_data_scientist`**"
      ],
      "metadata": {
        "id": "VJTCATxslqDC"
      }
    },
    {
      "cell_type": "code",
      "source": [
        "## TODO\n",
        "\n",
        "df_data_scientist = df_reduced.loc[df_reduced[\"Job Title\"] == \"Data Scientist\"].copy(deep=True)"
      ],
      "metadata": {
        "id": "4W33QMG5lsQ5"
      },
      "execution_count": 13,
      "outputs": []
    },
    {
      "cell_type": "markdown",
      "source": [
        "### Problem 7\n",
        "---\n",
        "\n",
        "Lets perform some analysis on the given skill sets for the `Data Scientist` job using the `df_data_scientist` dataset.\n",
        "\n",
        "\n",
        "1. Create a dictionary with all the skills as keys and their frequency as values. Sort them based on their values (i.e , the skill which has highext freqency should be the first key-value pair in the dictionary). Save the dictionary in the name `skillCounterSorted`\n",
        "\n",
        "2. List the **5** most common skills that are requested for the role of `Data Scientist`. Save the result as a list in descending order of their frequency.(i.e, the most requested skill should be on first element of the list). Save the list in variable `topSkillsforDataScientist` as dtype `list`\n",
        "\n",
        "3. Plot the top **10** skills and their frequency as a horizontal bar plot with proper label, title and grids. \n",
        "\n"
      ],
      "metadata": {
        "id": "GK5_WZRmiuVc"
      }
    },
    {
      "cell_type": "code",
      "source": [
        "##TODO\n",
        "\n",
        "##_ANSWER_HASH_TAG_##\n",
        "\n",
        "# df_data_scientist[\"Skill\"] =\n",
        "\n",
        "## Sort the Dictionary \n",
        "\n",
        "all_skills = [skill for skills in df_data_scientist[\"Skill\"] for skill in skills]\n",
        "\n",
        "count_skills = Counter(all_skills)\n",
        "\n",
        "skillCounterSorted = dict(sorted(count_skills.items(), key=lambda item: item[1], reverse=True))\n",
        "\n",
        "topSkillsforDataScientist = list(skillCounterSorted.keys())[:5]\n",
        "\n",
        "top_skills = list(skillCounterSorted.keys())[:10]\n",
        "top_freq = list(skillCounterSorted.values())[:10]\n",
        "\n",
        "## plot the figure \n",
        "\n",
        "fig,ax = plt.subplots(figsize=(6,8)) ## (DO NOT CHANGE)\n",
        "\n",
        "ax.barh(top_skills, top_freq)\n",
        "ax.invert_yaxis()  # Invert the y-axis so that the most common skill is at the top\n",
        "ax.set_xlabel('Frequency')\n",
        "ax.set_title('Top 10 Skills for Data Scientist')\n",
        "ax.grid(axis='x', linestyle='--', alpha=0.9)\n",
        "\n",
        "fig.savefig(f\"top.png\",dpi=200) ## (DO NOT CHANGE)\n",
        "\n",
        "##_ANSWER_HASH_TAG_##\n",
        "\n",
        "\n",
        "\n",
        "ANSWER_DICT[7] = [topSkillsforDataScientist,skillCounterSorted]"
      ],
      "metadata": {
        "id": "zCX-zQTrlNgX",
        "colab": {
          "base_uri": "https://localhost:8080/",
          "height": 513
        },
        "outputId": "32ab9870-089c-4dac-dae1-33f28d37b835"
      },
      "execution_count": 27,
      "outputs": [
        {
          "output_type": "display_data",
          "data": {
            "text/plain": [
              "<Figure size 432x576 with 1 Axes>"
            ],
            "image/png": "[encoded data removed]"
          },
          "metadata": {
            "needs_background": "light"
          }
        }
      ]
    },
    {
      "cell_type": "markdown",
      "source": [
        "### Problem 8\n",
        "---\n",
        "\n",
        "For this problem, we will find how much of average salary you will get if you have a particular skill. To calculate it follow the below procedure\n",
        "For Eg:\n",
        "\n",
        "```\n",
        "index    |  Skill                                        |   Mean_Salary      |\n",
        "------------------------------------------------------------------------------\n",
        "1        | ['python','sql']                              |     100            |\n",
        "2        | ['tensorflow','python','pandas','sql']        |     200            |\n",
        "3        | ['r','sql']                                   |     100            |\n",
        "\n",
        "```\n",
        "\n",
        "here the count dict will be\n",
        "```\n",
        "skillCounterSorted  = {\n",
        "  sql: 3,\n",
        "  python: 2,\n",
        "  r: 1,\n",
        "  tensorflow: 1,\n",
        "  pandas: 1\n",
        "}\n",
        "```\n",
        "\n",
        "lets make one more dict, which provides the related average payment for a skill. \n",
        "\n",
        "For Eg: take python, python appears on row 1 and row 2, So total Mean Salary is 100 + 200 = 300 divided by number of occurances (which is 2) , which gives final value of 150. For \"sql\", it appears on 3 rows, total mean_salary is 400, now dividing that by number of times it appeared (3), it becomes  133.33\n",
        "\n",
        "here the count dict will be\n",
        "```\n",
        "skillSalarySorted  = {\n",
        "  tensorflow: 200,\n",
        "  pandas: 200,\n",
        "  python: 150,\n",
        "  sql: 133.33,\n",
        "  r: 100\n",
        "}\n",
        "```\n",
        "\n",
        "\n",
        "\n",
        "1. Store the final dictionary in the variable called `skillSalarySorted` in sorted order (i.e, the highest paid skill should be at top )\n",
        "\n",
        "2. Plot a horizontal barplot for top 10 paid skills for `Data Scientist` role\n",
        "\n",
        "3. What is the mean pay for the skill `tensorflow` (obtain the value from `skillSalarySorted` array ). Save the value in `tensorflowMeanPay`.\n",
        "\n",
        "**Note, this is not the actual way to relate skill to payment. You could observe the imperfectness of this scheme, when you plot the top 5 skills**\n",
        "AS far as this problem set goes, this "
      ],
      "metadata": {
        "id": "D-UjKXsgwe6k"
      }
    },
    {
      "cell_type": "code",
      "source": [
        "## TODO\n",
        "\n",
        "##_ANSWER_HASH_TAG_##\n",
        "\n",
        "df_exploded = df_data_scientist.explode('Skill')\n",
        "skillSalary = df_exploded.groupby('Skill')['Mean_Salary'].mean()\n",
        "\n",
        "skillSalarySorted = dict(sorted(count_skills.items(), key=lambda item: item[1], reverse=True))\n",
        "\n",
        "tensorflowMeanPay = skillSalarySorted['tensorflow']\n",
        "\n",
        "top_skills = list(skillSalarySorted.keys())[:10]\n",
        "top_freq = list(skillSalarySorted.values())[:10]\n",
        "\n",
        "fig,ax = plt.subplots(figsize=(6,8)) ## Do not change\n",
        "\n",
        "ax.barh(top_skills, top_freq)\n",
        "ax.invert_yaxis()  # Invert the y-axis so that the most common skill is at the top\n",
        "ax.set_xlabel('Mean Salary')\n",
        "ax.set_title('Top 10 Paid Skills for Data Scientist')\n",
        "ax.grid(axis='x', linestyle='--', alpha=0.9)\n",
        "\n",
        "fig.savefig(\"skill.png\",dpi=150)\n",
        "##_ANSWER_HASH_TAG_##\n",
        "\n",
        "ANSWER_DICT[8] = [tensorflowMeanPay,skillSalarySorted]"
      ],
      "metadata": {
        "id": "XBhB9a-9XmJY",
        "colab": {
          "base_uri": "https://localhost:8080/",
          "height": 513
        },
        "outputId": "779cf853-966c-40bc-a9b2-22575fbf3bc9"
      },
      "execution_count": 37,
      "outputs": [
        {
          "output_type": "display_data",
          "data": {
            "text/plain": [
              "<Figure size 432x576 with 1 Axes>"
            ],
            "image/png": "[encoded data removed]"
          },
          "metadata": {
            "needs_background": "light"
          }
        }
      ]
    },
    {
      "cell_type": "markdown",
      "source": [
        "### Problem 9:\n",
        "---\n",
        "\n",
        "In this section, we will observe general stats regarding the data present in `df_data_scientist` table. \n",
        "\n",
        "1. Store the mean salary offered at each state code and sort them (descending) based on the average of `Mean_Salary` value offered at all companies in a state.  Save the dataframe in `df_state` with columns `['State_Code' , 'Average_State_Salary']` where `State_Code` storing the state code and `Average_State_Salary` storing the average of `Mean_Salary` column in that state code. \n",
        "\n",
        "\n",
        "2. Store the second top `State_Code` and the `Average_State_Salary` as a tuple `(State_code,Average_State_salary)` in the variable named `secondTopStateCode`\n",
        "\n",
        "\n",
        "3. Store the `Average_State_Salary` of the state `NY` in the variable called `NYAvgSalary`\n",
        "\n",
        "\n",
        "4. Plot a horizontal bar plot of top 10 states with repect to the `Average_State_Salary`\n"
      ],
      "metadata": {
        "id": "KNsZKotF2YPt"
      }
    },
    {
      "cell_type": "code",
      "source": [
        "## TODO\n",
        "\n",
        "##_ANSWER_HASH_TAG_##\n",
        "\n",
        "df_state = df_data_scientist.groupby(\"State_Code\")[\"Mean_Salary\"].mean().reset_index()\n",
        "df_state = df_state.rename(columns={\"Mean_Salary\": \"Average_State_Salary\"})\n",
        "df_state = df_state.sort_values(by=\"Average_State_Salary\", ascending=False)[[\"State_Code\", \"Average_State_Salary\"]]\n",
        "\n",
        "secondTopStateCode = tuple(df_state.iloc[1])\n",
        "\n",
        "NYAvgSalary = df_state.loc[df_state[\"State_Code\"] == \"NY\", \"Average_State_Salary\"].values[0]\n",
        "\n",
        "top10_states = df_state.head(10)\n",
        "\n",
        "fig,ax = plt.subplots(figsize=(6,8)) ## DO NOT CHANGE\n",
        "\n",
        "ax.barh(top10_states[\"State_Code\"], top10_states[\"Average_State_Salary\"])\n",
        "ax.invert_yaxis() \n",
        "ax.set_xlabel(\"Average State Salary\")\n",
        "ax.set_ylabel(\"State Code\")\n",
        "ax.set_title(\"Top 10 States by Average Salary\")\n",
        "ax.grid(axis='x', linestyle='--', alpha=0.9)\n",
        "\n",
        "fig.savefig(\"topStates.png\",dpi=200) ## Do not change\n",
        "\n",
        "##_ANSWER_HASH_TAG_##\n",
        "\n",
        "ANSWER_DICT[9] = [df_state,secondTopStateCode,NYAvgSalary]"
      ],
      "metadata": {
        "id": "jjYxFtjKXylb",
        "colab": {
          "base_uri": "https://localhost:8080/",
          "height": 513
        },
        "outputId": "7edac7f8-b83a-46a0-a114-b4b1930d9548"
      },
      "execution_count": 42,
      "outputs": [
        {
          "output_type": "display_data",
          "data": {
            "text/plain": [
              "<Figure size 432x576 with 1 Axes>"
            ],
            "image/png": "[encoded data removed]"
          },
          "metadata": {
            "needs_background": "light"
          }
        }
      ]
    },
    {
      "cell_type": "markdown",
      "source": [],
      "metadata": {
        "id": "PQpcI7EanqLh"
      }
    }
  ]
}